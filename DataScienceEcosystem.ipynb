{
 "cells": [
  {
   "cell_type": "markdown",
   "id": "23ec1a59-1448-4393-a1bb-3bc0e3a1dc4c",
   "metadata": {},
   "source": [
    "#### Add your code below following the instructions given in the course"
   ]
  },
  {
   "cell_type": "markdown",
   "id": "e82e5f24-a057-4853-8681-9c37f6c3206c",
   "metadata": {
    "tags": []
   },
   "source": [
    "# Data Science Tools and Ecosystem"
   ]
  },
  {
   "cell_type": "markdown",
   "id": "b7c5482c-89c6-4f11-8880-afefcc55a0fb",
   "metadata": {},
   "source": [
    "In this notebook, Data Science Tools and Ecosystem are summarized."
   ]
  },
  {
   "cell_type": "markdown",
   "id": "7fce4540-226c-4f2f-a5f7-45b15f9cc10e",
   "metadata": {},
   "source": [
    "### Some of the popular languages that Data Scientists use are："
   ]
  },
  {
   "cell_type": "markdown",
   "id": "b007244c-b0b2-4be0-a766-c493b3b2985c",
   "metadata": {},
   "source": [
    "ordered list\n",
    "| C++ | \n",
    "| python | \n",
    "| R |"
   ]
  },
  {
   "cell_type": "markdown",
   "id": "f7321c32-8b9e-46c4-bdbc-dad23e39e5cc",
   "metadata": {},
   "source": [
    "Some of the commonly used libraries used by Data Scientists include:"
   ]
  },
  {
   "cell_type": "markdown",
   "id": "0246e00c-3a57-42cd-8e22-b47f9a9e43a7",
   "metadata": {},
   "source": [
    "ordered list \n",
    "ggplot2 Lattice Numpy"
   ]
  },
  {
   "cell_type": "markdown",
   "id": "db60b104-6aff-4e15-b42d-80744bb31bb9",
   "metadata": {},
   "source": [
    "| Data Science Tools |\n",
    "|--------------------|\n",
    "| Jupyter Notebook   |\n",
    "| RStudio            |\n",
    "| VSCode             |"
   ]
  },
  {
   "cell_type": "markdown",
   "id": "b5baed54-c4e6-46e9-8cb3-3fb41502501f",
   "metadata": {},
   "source": [
    "### Below are a few examples of evaluating arithmetic expressions in Python"
   ]
  },
  {
   "cell_type": "code",
   "execution_count": null,
   "id": "b8363dc2-ba1d-40fd-badf-f96405483184",
   "metadata": {},
   "outputs": [],
   "source": [
    "# This is a simple arithmetic expression to multiply then add integers(3*4)+5\n",
    "(3*4)+5"
   ]
  },
  {
   "cell_type": "code",
   "execution_count": null,
   "id": "39509f35-9ca9-47ee-9f67-4f8040597b9d",
   "metadata": {},
   "outputs": [],
   "source": [
    "# This will convert 200 minutes to hours by dividing by 60.\n",
    "200 / 60"
   ]
  },
  {
   "cell_type": "markdown",
   "id": "52215617-3218-4d54-b9cf-6149839bcabc",
   "metadata": {},
   "source": [
    "**Objectives:**\n",
    "\n",
    "- List popular languages for Data Science.\n",
    "- Introduce key libraries and frameworks used in Data Science.\n",
    "- Demonstrate basic data manipulation and analysis techniques.\n",
    "- Provide examples of data visualization methods.\n",
    "- Discuss best practices for data cleaning and preprocessing."
   ]
  },
  {
   "cell_type": "markdown",
   "id": "86de7789-f223-4f74-9946-bda9cfcf0079",
   "metadata": {},
   "source": [
    "## Author\n",
    "Yingchu Liu"
   ]
  },
  {
   "cell_type": "code",
   "execution_count": null,
   "id": "c5264e02-9071-4fd1-9de9-f3c8893745f9",
   "metadata": {},
   "outputs": [],
   "source": []
  }
 ],
 "metadata": {
  "kernelspec": {
   "display_name": "Python 3 (ipykernel)",
   "language": "python",
   "name": "python3"
  },
  "language_info": {
   "codemirror_mode": {
    "name": "ipython",
    "version": 3
   },
   "file_extension": ".py",
   "mimetype": "text/x-python",
   "name": "python",
   "nbconvert_exporter": "python",
   "pygments_lexer": "ipython3",
   "version": "3.11.4"
  }
 },
 "nbformat": 4,
 "nbformat_minor": 5
}
